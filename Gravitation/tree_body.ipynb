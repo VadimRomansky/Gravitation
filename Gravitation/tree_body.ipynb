{
 "cells": [
  {
   "cell_type": "code",
   "execution_count": 1,
   "id": "e0fc891e",
   "metadata": {},
   "outputs": [],
   "source": [
    "import numpy as np\n",
    "import pandas as pd\n",
    "from matplotlib import pyplot as plt\n",
    "from matplotlib.animation import FuncAnimation\n",
    "plt.style.use('seaborn-pastel')\n",
    "\n",
    "data = []\n",
    "with open(\"output.dat\") as f:\n",
    "    for line in f:\n",
    "        data.append([float(x) for x in line.split()])\n",
    "        \n",
    "data = np.array(data)\n",
    "Nbodies = int((data.shape[1] - 1)/6)\n",
    "Nt = data.shape[0]"
   ]
  },
  {
   "cell_type": "code",
   "execution_count": 2,
   "id": "1aa3c291",
   "metadata": {},
   "outputs": [
    {
     "name": "stderr",
     "output_type": "stream",
     "text": [
      "MovieWriter imagemagick unavailable; using Pillow instead.\n"
     ]
    },
    {
     "data": {
      "image/png": "[encoded data removed]",
      "text/plain": [
       "<Figure size 432x288 with 1 Axes>"
      ]
     },
     "metadata": {
      "needs_background": "light"
     },
     "output_type": "display_data"
    }
   ],
   "source": [
    "Nstep = 5; \n",
    "Nframe = int(Nt/Nstep);\n",
    "Nframe = 1000;\n",
    "\n",
    "maxXcoord = 0\n",
    "maxYcoord = 0\n",
    "for i in range(data.shape[0]):\n",
    "    for j in range(Nbodies):\n",
    "        x = data[i][1+(j)*6]\n",
    "        y = data[i][2+(j)*6]\n",
    "        if(abs(x) > maxXcoord):\n",
    "            maxXcoord = abs(x)\n",
    "        if(abs(y) > maxYcoord):\n",
    "            maxYcoord = abs(y)\n",
    "\n",
    "fig = plt.figure()\n",
    "#ax = plt.axes(xlim=(-maxXcoord, maxXcoord), ylim=(-maxYcoord, maxYcoord))\n",
    "ax = plt.axes(xlim=(-5E13, 5E13), ylim=(-5E13, 5E13))\n",
    "line, = ax.plot([], [], lw=3)\n",
    "\n",
    "plotlays, plotcols = [2], [\"yellow\",\"gray\",\"crimson\",\"cyan\",\"red\",\"chocolate\",\"orange\",\"skyblue\",\"blue\",\"darkgray\"]\n",
    "lines = []\n",
    "for index in range(Nbodies):\n",
    "    lobj = ax.plot([],[],lw=2,color=plotcols[index])[0]\n",
    "    lines.append(lobj)\n",
    "\n",
    "xlist = []\n",
    "ylist = []\n",
    "\n",
    "for j in range(Nbodies):\n",
    "    xlist.append([])\n",
    "    ylist.append([])\n",
    " \n",
    "def init():\n",
    "    for line in lines:\n",
    "        line.set_data([],[])\n",
    "    return lines\n",
    "def animate(i):\n",
    "    for j in range(Nbodies):\n",
    "        x = data[Nstep*i][1 + j*6]\n",
    "        y = data[Nstep*i][2 + j*6]\n",
    "        \n",
    "        xlist[j].append(x)\n",
    "        ylist[j].append(y)\n",
    "\n",
    "    #for index in range(0,1):\n",
    "    for lnum,line in enumerate(lines):\n",
    "        line.set_data(xlist[lnum], ylist[lnum]) # set data for each line separately. \n",
    "\n",
    "    return lines\n",
    " \n",
    "anim = FuncAnimation(fig, animate, init_func=init,\n",
    "                               frames=Nframe, interval=5, blit=True)\n",
    " \n",
    " \n",
    "anim.save('tree_body.gif', writer='imagemagick')\n"
   ]
  },
  {
   "cell_type": "code",
   "execution_count": null,
   "id": "2417bed8",
   "metadata": {},
   "outputs": [],
   "source": [
    "Nbodies"
   ]
  },
  {
   "cell_type": "code",
   "execution_count": null,
   "id": "6982a1ad",
   "metadata": {},
   "outputs": [],
   "source": [
    "plt.plot(data[1:Nt,1],data[1:Nt,5])"
   ]
  }
 ],
 "metadata": {
  "kernelspec": {
   "display_name": "Python 3",
   "language": "python",
   "name": "python3"
  },
  "language_info": {
   "codemirror_mode": {
    "name": "ipython",
    "version": 3
   },
   "file_extension": ".py",
   "mimetype": "text/x-python",
   "name": "python",
   "nbconvert_exporter": "python",
   "pygments_lexer": "ipython3",
   "version": "3.8.8"
  }
 },
 "nbformat": 4,
 "nbformat_minor": 5
}
